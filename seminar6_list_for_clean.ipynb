{
 "cells": [
  {
   "cell_type": "code",
   "execution_count": 3,
   "metadata": {},
   "outputs": [],
   "source": [
    "# join() 2 3 6"
   ]
  },
  {
   "cell_type": "code",
   "execution_count": null,
   "metadata": {},
   "outputs": [],
   "source": []
  },
  {
   "cell_type": "code",
   "execution_count": null,
   "metadata": {},
   "outputs": [],
   "source": []
  },
  {
   "cell_type": "code",
   "execution_count": null,
   "metadata": {},
   "outputs": [],
   "source": []
  },
  {
   "cell_type": "markdown",
   "metadata": {},
   "source": [
    "**Задача 1** (из банка заданий НЭ)\n",
    "\n",
    "Реализуйте программу, которая сохраняет в список все строки, состоящие только из символов в нижнем регистре.\n",
    "\n",
    "В цикле while считываются строки до тех пор, пока не введена строка 'END'.\n",
    "Для каждой вводимой строки сделайте проверку: если в строке содержатся только символы в нижнем регистре, то добавьте ее в список.\n",
    "Гарантируется, что до строки 'END' будет введена как минимум одна строка.\n",
    "Напечатайте получившийся список. Строки должны быть добавлены в список в том же порядке, что и при вводе.\n",
    "\n",
    "**ПРИМЕР ВВОДА**\n",
    "\n",
    "питон  \n",
    "матеМатика  \n",
    "История  \n",
    "ЭКОНОМИКА  \n",
    "география!  \n",
    "END  \n",
    "\n",
    "**ПРИМЕР ВЫВОДА**\n",
    "\n",
    "['питон', 'география!']"
   ]
  },
  {
   "cell_type": "code",
   "execution_count": null,
   "metadata": {},
   "outputs": [],
   "source": []
  },
  {
   "cell_type": "code",
   "execution_count": null,
   "metadata": {},
   "outputs": [],
   "source": []
  },
  {
   "cell_type": "code",
   "execution_count": null,
   "metadata": {},
   "outputs": [],
   "source": []
  },
  {
   "cell_type": "markdown",
   "metadata": {},
   "source": [
    "**Задача 2** (из банка заданий НЭ)\n",
    "\n",
    "\n",
    "Реализуйте программу, которая сохраняет в список длинные адреса электронных почт.\n",
    "\n",
    "Задан пустой список emails.\n",
    "* В цикле while считываются строки до тех пор, пока не введена строка 'END'.\n",
    "* Для каждой вводимой строки сделайте проверку: если в строке содержится символ \"@\" и она длиннее 18 символов, то добавьте ее в список emails.\n",
    "* Гарантируется, что до строки 'END' будет введена как минимум одна строка.\n",
    "* Напечатайте список emails. Строки в нем должны идти в том же порядке, что и при вводе.\n",
    "\n",
    "**ФОРМАТ ВВОДА**\n",
    "\n",
    " mymailru@mail.com    \n",
    " superpuperstudent@hse.com  \n",
    " ma777ivanova@rambler.ru  \n",
    "END    \n",
    "\n",
    "**ФОРМАТ ВЫВОДА**\n",
    "\n",
    "['superpuperstudent@hse.com', 'ma777ivanova@rambler.ru']"
   ]
  },
  {
   "cell_type": "code",
   "execution_count": null,
   "metadata": {},
   "outputs": [],
   "source": []
  },
  {
   "cell_type": "code",
   "execution_count": null,
   "metadata": {},
   "outputs": [],
   "source": [
    "email = input()\n",
    "while email != 'END':\n",
    "    "
   ]
  },
  {
   "cell_type": "code",
   "execution_count": null,
   "metadata": {},
   "outputs": [],
   "source": []
  },
  {
   "cell_type": "code",
   "execution_count": null,
   "metadata": {},
   "outputs": [],
   "source": []
  },
  {
   "cell_type": "code",
   "execution_count": null,
   "metadata": {},
   "outputs": [],
   "source": []
  },
  {
   "cell_type": "code",
   "execution_count": null,
   "metadata": {},
   "outputs": [],
   "source": []
  },
  {
   "cell_type": "markdown",
   "metadata": {},
   "source": [
    "**Задача 3** \n",
    "\n",
    "Ассистент собирает оценки студентов и хочет узнать, какая получилась средняя оценка за курс.\n",
    "\n",
    "ФОРМАТ ВВОДА\n",
    "\n",
    "Программа получает на вход число студентов в группе N.\n",
    "Далее идет N строк, в каждой строке записан результат в виде \"оценка 5\"\n",
    "\n",
    "\n",
    "ФОРМАТ ВЫВОДА\n",
    "\n",
    "Вещественное число — средняя оценка всех участников."
   ]
  },
  {
   "cell_type": "code",
   "execution_count": null,
   "metadata": {},
   "outputs": [],
   "source": []
  },
  {
   "cell_type": "markdown",
   "metadata": {},
   "source": [
    "**Задача 4**\n",
    "\n",
    "Вводится число R - баланс на банковской карты. \n",
    "\n",
    "Далее в цикле while считываются позиции магазина (строки), которые доступны для покупки. Считывается до тех пор, пока не введена строка 'END'.\n",
    "Каждая строка представлена как: `<товар> - <цена>`.\n",
    "\n",
    "Необходимо вывести список только тех покупок, которые мы сможем купить.\n",
    "\n",
    "**ПРИМЕР ВВОДА**\n",
    "```\n",
    "700\n",
    "макароны - 150  \n",
    "iPhone 16 - 90000  \n",
    "книга - 399  \n",
    "брелок - 50\n",
    "фонарик 800\n",
    "END  \n",
    "```\n",
    "**ПРИМЕР ВЫВОДА**\n",
    "\n",
    "`['макароны', 'книга', 'брелок']`"
   ]
  },
  {
   "cell_type": "code",
   "execution_count": null,
   "metadata": {},
   "outputs": [],
   "source": [
    "\n"
   ]
  },
  {
   "cell_type": "markdown",
   "metadata": {},
   "source": [
    "**Задача 5**\n",
    "\n",
    "Петя устанавливает новый пароль к своему аккаунту:\n",
    "\n",
    "В цикле while считываются пароли (тип: строка), которые он хочет установить. Считывается до тех пор, пока не введена строка 'END'.\n",
    "\n",
    "Необходимо напечатать надежный пароль (см. критерии ниже), который был введен Петей последним.\n",
    "\n",
    "Критерий надежности:\n",
    "* Число символов не менее 8\n",
    "* Присутствуют специальные символы (@, #, $)\n",
    "* Есть хотя бы одна заглавная буква\n",
    "\n",
    "**ПРИМЕР ВВОДА**\n",
    "```\n",
    "123456789999\n",
    "Qwerty456@\n",
    "Zxcvbn\n",
    "6#Awasdqwe\n",
    "wasd\n",
    "END  \n",
    "```\n",
    "**ПРИМЕР ВЫВОДА**\n",
    "\n",
    "`6#Awasdqwe`"
   ]
  },
  {
   "cell_type": "code",
   "execution_count": null,
   "metadata": {},
   "outputs": [],
   "source": []
  },
  {
   "cell_type": "markdown",
   "metadata": {},
   "source": [
    "**Задача 6**\n",
    "\n",
    "  На вход программе подается одна строка чисел, разделенных пробелом - оценки группы проект. \n",
    "Далее на вход программе подается другая строка, содержащая фамилии (разделенных пробелом) соответствующих студентов.\n",
    "\n",
    "Необходимо вывести только те фамилии, кто получил `ЗАЧЕТ`. Зачет предполагает оценку не менее 4.\n",
    "\n",
    "**ПРИМЕР ВВОДА**\n",
    "```\n",
    "1 2 3 4 5\n",
    "Иванов Петров Сидоров Хорошов Умнов\n",
    "```\n",
    "**ПРИМЕР ВЫВОДА**\n",
    "\n",
    "`Долгих`\n",
    "`Умнов`"
   ]
  },
  {
   "cell_type": "code",
   "execution_count": 6,
   "metadata": {},
   "outputs": [],
   "source": [
    "# Вводится температура по месяцам и граница. Индексы + кол-во месяцев"
   ]
  },
  {
   "cell_type": "code",
   "execution_count": null,
   "metadata": {},
   "outputs": [],
   "source": []
  },
  {
   "cell_type": "code",
   "execution_count": null,
   "metadata": {},
   "outputs": [],
   "source": []
  }
 ],
 "metadata": {
  "colab": {
   "provenance": []
  },
  "kernelspec": {
   "display_name": "Python 3 (ipykernel)",
   "language": "python",
   "name": "python3"
  },
  "language_info": {
   "codemirror_mode": {
    "name": "ipython",
    "version": 3
   },
   "file_extension": ".py",
   "mimetype": "text/x-python",
   "name": "python",
   "nbconvert_exporter": "python",
   "pygments_lexer": "ipython3",
   "version": "3.10.12"
  }
 },
 "nbformat": 4,
 "nbformat_minor": 4
}
