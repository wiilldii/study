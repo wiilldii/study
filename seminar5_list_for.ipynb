{
 "cells": [
  {
   "cell_type": "markdown",
   "metadata": {
    "id": "q4Y0eL5GfSn4"
   },
   "source": [
    "### Списки. Цикл for"
   ]
  },
  {
   "cell_type": "markdown",
   "metadata": {
    "id": "jOxim6r2W-3-"
   },
   "source": [
    "Список можно создать, заключив его элементы в квадратные скобки `[]` или с помощью встроенной функцией list.\n"
   ]
  },
  {
   "cell_type": "code",
   "execution_count": 13,
   "metadata": {
    "id": "LUDFzJSXYjiK"
   },
   "outputs": [],
   "source": [
    "numbers = [1, 7, 3, 19, 5, 34, 0, -1, 7, 3]  # упорядоченный изменяемый тип данных"
   ]
  },
  {
   "cell_type": "code",
   "execution_count": 5,
   "metadata": {},
   "outputs": [],
   "source": [
    "a = [1, \"123\", True, \"котик\"]"
   ]
  },
  {
   "cell_type": "code",
   "execution_count": 9,
   "metadata": {},
   "outputs": [
    {
     "data": {
      "text/plain": [
       "'котик'"
      ]
     },
     "execution_count": 9,
     "metadata": {},
     "output_type": "execute_result"
    }
   ],
   "source": []
  },
  {
   "cell_type": "code",
   "execution_count": null,
   "metadata": {},
   "outputs": [],
   "source": []
  },
  {
   "cell_type": "code",
   "execution_count": null,
   "metadata": {},
   "outputs": [],
   "source": []
  },
  {
   "cell_type": "markdown",
   "metadata": {},
   "source": [
    "##### Индексация и изменение элемента (+ отличие от str)"
   ]
  },
  {
   "cell_type": "code",
   "execution_count": null,
   "metadata": {},
   "outputs": [],
   "source": []
  },
  {
   "cell_type": "markdown",
   "metadata": {
    "id": "RHpFyrvcXQl7"
   },
   "source": [
    "#### Примеры действий со списками:\n",
    "\n",
    "* сложение (конкатенация)"
   ]
  },
  {
   "cell_type": "code",
   "execution_count": 10,
   "metadata": {},
   "outputs": [
    {
     "data": {
      "text/plain": [
       "[1, 2, 5, 6]"
      ]
     },
     "execution_count": 10,
     "metadata": {},
     "output_type": "execute_result"
    }
   ],
   "source": [
    "[1,2] + [5, 6]"
   ]
  },
  {
   "cell_type": "markdown",
   "metadata": {
    "id": "_OIuxy7vXhbj"
   },
   "source": [
    "* умножение на число"
   ]
  },
  {
   "cell_type": "code",
   "execution_count": 11,
   "metadata": {},
   "outputs": [
    {
     "data": {
      "text/plain": [
       "[1, 2, 1, 2, 1, 2]"
      ]
     },
     "execution_count": 11,
     "metadata": {},
     "output_type": "execute_result"
    }
   ],
   "source": [
    "[1, 2] * 3"
   ]
  },
  {
   "cell_type": "markdown",
   "metadata": {},
   "source": [
    "Наличие элемента в списке"
   ]
  },
  {
   "cell_type": "code",
   "execution_count": 12,
   "metadata": {},
   "outputs": [
    {
     "data": {
      "text/plain": [
       "True"
      ]
     },
     "execution_count": 12,
     "metadata": {},
     "output_type": "execute_result"
    }
   ],
   "source": [
    "a = [1, 2, 3, 4, 5]\n",
    "3 in a"
   ]
  },
  {
   "cell_type": "code",
   "execution_count": null,
   "metadata": {},
   "outputs": [],
   "source": []
  },
  {
   "cell_type": "code",
   "execution_count": null,
   "metadata": {},
   "outputs": [],
   "source": []
  },
  {
   "cell_type": "markdown",
   "metadata": {
    "id": "ZyqUQE8eXm1T"
   },
   "source": [
    "* обращение к элементу по индексу (нумерация с элементов списка начинается с  0 )\n",
    "* обращение сразу к нескольким элементам (slice)"
   ]
  },
  {
   "cell_type": "code",
   "execution_count": 1,
   "metadata": {},
   "outputs": [],
   "source": [
    "lst = [1, 3, 6, 19, 2]\n"
   ]
  },
  {
   "cell_type": "markdown",
   "metadata": {},
   "source": [
    "# Срезы"
   ]
  },
  {
   "cell_type": "code",
   "execution_count": 14,
   "metadata": {
    "colab": {
     "base_uri": "https://localhost:8080/"
    },
    "id": "PxGl9HLDXt2u",
    "outputId": "613c6f87-5e1a-4121-f7b7-0db2453adc04"
   },
   "outputs": [
    {
     "name": "stdout",
     "output_type": "stream",
     "text": [
      "[1, 7, 3, 19, 5, 34, 0, -1, 7, 3]\n",
      "1\n",
      "7\n",
      "3\n",
      "[7, 3, 19]\n",
      "[7, 5, -1]\n",
      "[1, 7, 3, 19, 5]\n",
      "[7, 3, 19, 5, 34, 0, -1, 7, 3]\n",
      "[3, 7, -1, 0, 34, 5, 19, 3, 7, 1]\n"
     ]
    }
   ],
   "source": [
    "print(numbers)\n",
    "print(numbers[0])\n",
    "print(numbers[1])\n",
    "print(numbers[2])\n",
    "print(numbers[1:4]) # срез: левая граница включается, правая - нет\n",
    "print(numbers[1:9:3]) # стартовый индекс : финишный индекс : размер шага\n",
    "print(numbers[:5])\n",
    "print(numbers[1:])\n",
    "print(numbers[::-1])"
   ]
  },
  {
   "cell_type": "markdown",
   "metadata": {},
   "source": [
    "#### Копирование списка"
   ]
  },
  {
   "cell_type": "code",
   "execution_count": 17,
   "metadata": {},
   "outputs": [
    {
     "data": {
      "text/plain": [
       "[1, 3, 5]"
      ]
     },
     "execution_count": 17,
     "metadata": {},
     "output_type": "execute_result"
    }
   ],
   "source": [
    "numbers[0:5:2]"
   ]
  },
  {
   "cell_type": "code",
   "execution_count": null,
   "metadata": {},
   "outputs": [],
   "source": []
  },
  {
   "cell_type": "markdown",
   "metadata": {
    "id": "WKvJC_b-cyfO"
   },
   "source": [
    "* `len(s)`\tдлина (количество элементов) `s`\n",
    "* `sum(s)`\tсумма чисел в `s`. Можно брать от\t`list/tuple`\n",
    "* `min(s)`\tнаименьший элемент `s`. Можно брать от\t`list/tuple`\n",
    "* `max(s)`\tнаибольший элемент `s`. Можно брать от\t`list/tuple`"
   ]
  },
  {
   "cell_type": "code",
   "execution_count": 18,
   "metadata": {
    "colab": {
     "base_uri": "https://localhost:8080/"
    },
    "id": "Rvb5g58ubSg6",
    "outputId": "e519590c-0c3e-4216-813d-8401f6a7a471"
   },
   "outputs": [
    {
     "data": {
      "text/plain": [
       "[1, 7, 3, 19, 5, 34, 0, -1, 7, 3]"
      ]
     },
     "execution_count": 18,
     "metadata": {},
     "output_type": "execute_result"
    }
   ],
   "source": [
    "numbers"
   ]
  },
  {
   "cell_type": "code",
   "execution_count": 22,
   "metadata": {},
   "outputs": [
    {
     "data": {
      "text/plain": [
       "78"
      ]
     },
     "execution_count": 22,
     "metadata": {},
     "output_type": "execute_result"
    }
   ],
   "source": [
    "sum(numbers)\n"
   ]
  },
  {
   "cell_type": "code",
   "execution_count": 27,
   "metadata": {},
   "outputs": [],
   "source": [
    "numbers = [1, 7, 3, 19, 5, 34, 0, -1, 7, 3]"
   ]
  },
  {
   "cell_type": "code",
   "execution_count": 28,
   "metadata": {},
   "outputs": [],
   "source": []
  },
  {
   "cell_type": "code",
   "execution_count": 29,
   "metadata": {},
   "outputs": [
    {
     "data": {
      "text/plain": [
       "[1, 7, 3, 19, 5, 34, 0, -1, 7, 3, 1000000]"
      ]
     },
     "execution_count": 29,
     "metadata": {},
     "output_type": "execute_result"
    }
   ],
   "source": [
    "numbers"
   ]
  },
  {
   "cell_type": "markdown",
   "metadata": {},
   "source": [
    "### Цикл for (+ range)"
   ]
  },
  {
   "cell_type": "markdown",
   "metadata": {
    "id": "h1yQeDFDYmsp"
   },
   "source": [
    "**Цикл for** используется тогда, когда нужно повторить что-то определенное количество раз."
   ]
  },
  {
   "cell_type": "code",
   "execution_count": 35,
   "metadata": {
    "colab": {
     "base_uri": "https://localhost:8080/"
    },
    "id": "a0b0F1A_bYaS",
    "outputId": "0851a8e5-7183-492e-ff27-e804d8d6008b"
   },
   "outputs": [
    {
     "data": {
      "text/plain": [
       "[0, 1, 2, 3, 4]"
      ]
     },
     "execution_count": 35,
     "metadata": {},
     "output_type": "execute_result"
    }
   ],
   "source": [
    "x = list(range(5))\n",
    "x"
   ]
  },
  {
   "cell_type": "code",
   "execution_count": 36,
   "metadata": {},
   "outputs": [
    {
     "data": {
      "text/plain": [
       "[0, 1, 2, 3, 4]"
      ]
     },
     "execution_count": 36,
     "metadata": {},
     "output_type": "execute_result"
    }
   ],
   "source": [
    "x = [x for x in range(5)]\n",
    "x"
   ]
  },
  {
   "cell_type": "code",
   "execution_count": 37,
   "metadata": {},
   "outputs": [
    {
     "data": {
      "text/plain": [
       "[0, 1, 2, 3, 4]"
      ]
     },
     "execution_count": 37,
     "metadata": {},
     "output_type": "execute_result"
    }
   ],
   "source": [
    "x"
   ]
  },
  {
   "cell_type": "code",
   "execution_count": 38,
   "metadata": {},
   "outputs": [],
   "source": [
    "v = [1, True, \"dog\"]"
   ]
  },
  {
   "cell_type": "code",
   "execution_count": 40,
   "metadata": {},
   "outputs": [
    {
     "name": "stdout",
     "output_type": "stream",
     "text": [
      "1\n",
      "True\n",
      "dog\n"
     ]
    }
   ],
   "source": [
    "for pointer in v:\n",
    "    print(pointer)"
   ]
  },
  {
   "cell_type": "markdown",
   "metadata": {},
   "source": [
    "#### Итерирование (c индесом и как итератор)"
   ]
  },
  {
   "cell_type": "code",
   "execution_count": null,
   "metadata": {
    "colab": {
     "base_uri": "https://localhost:8080/"
    },
    "id": "5xIsf5XUbxaL",
    "outputId": "ff465472-5a07-4c39-dc8e-22d8040c5824"
   },
   "outputs": [],
   "source": []
  },
  {
   "cell_type": "markdown",
   "metadata": {},
   "source": [
    "#### Магия: превращаем range -> list"
   ]
  },
  {
   "cell_type": "code",
   "execution_count": null,
   "metadata": {
    "colab": {
     "base_uri": "https://localhost:8080/"
    },
    "id": "g6TLGz1GdoMC",
    "outputId": "a2aef03a-5327-4ede-ee52-9ffbf16d1caa"
   },
   "outputs": [],
   "source": []
  },
  {
   "cell_type": "markdown",
   "metadata": {
    "id": "PptVzAeFfW5R"
   },
   "source": [
    "**Задача 1**\n",
    "\n",
    "Дан список lst = [1, 6, 2, 20, 3, 0, 4, 15, 17, 11, 16].\n",
    "Необходимо вывести элементы, которые одновременно не больше 20, больше 0 и делятся на 2 без остатка."
   ]
  },
  {
   "cell_type": "code",
   "execution_count": 44,
   "metadata": {},
   "outputs": [
    {
     "name": "stdout",
     "output_type": "stream",
     "text": [
      "6\n",
      "2\n",
      "20\n",
      "4\n",
      "16\n"
     ]
    }
   ],
   "source": [
    "lst = [1, 6, 2, 20, 3, 0, 4, 15, 17, 11, 16]\n",
    "for i in lst:\n",
    "    if i<=20 and i > 0 and i%2 ==0:\n",
    "        print (i)\n"
   ]
  },
  {
   "cell_type": "code",
   "execution_count": null,
   "metadata": {},
   "outputs": [],
   "source": [
    "len(lst)"
   ]
  },
  {
   "cell_type": "code",
   "execution_count": 46,
   "metadata": {},
   "outputs": [
    {
     "name": "stdout",
     "output_type": "stream",
     "text": [
      "i=0 lst[i]=1\n",
      "i=1 lst[i]=6\n",
      "6\n",
      "i=2 lst[i]=2\n",
      "2\n"
     ]
    }
   ],
   "source": [
    "lst = [1, 6, 2]\n",
    "for i in range(len(lst)):\n",
    "    print(f\"{i=} {lst[i]=}\")\n",
    "    if lst[i]<=20 and lst[i] > 0 and lst[i]%2 ==0:\n",
    "        print (lst[i])"
   ]
  },
  {
   "cell_type": "markdown",
   "metadata": {
    "id": "rLC18Q2Fff7Q"
   },
   "source": [
    "**Задача 2**\n",
    "\n",
    "Вводятся два целых числа A и B (гарантируется, что A ≤ B). Выведите все числа от A до B включительно, используя цикл for.\n"
   ]
  },
  {
   "cell_type": "code",
   "execution_count": 47,
   "metadata": {},
   "outputs": [
    {
     "name": "stdin",
     "output_type": "stream",
     "text": [
      " 1\n",
      " 5\n"
     ]
    },
    {
     "name": "stdout",
     "output_type": "stream",
     "text": [
      "1\n",
      "2\n",
      "3\n",
      "4\n",
      "5\n"
     ]
    }
   ],
   "source": [
    "a = int(input())\n",
    "b = int(input())\n",
    "for n in range(a, b + 1):\n",
    "    print(n)"
   ]
  },
  {
   "cell_type": "code",
   "execution_count": null,
   "metadata": {},
   "outputs": [],
   "source": []
  },
  {
   "cell_type": "markdown",
   "metadata": {
    "id": "HhgEDAUGf8OR"
   },
   "source": [
    "**Задача 3**\n",
    "\n",
    "Вводится целое число n. Затем пользователь n раз вводит числа последовательности (от -100000 до 100000) Посчитате и выведите сумму членов последовательности, а также минимальное и максимальное значение"
   ]
  },
  {
   "cell_type": "code",
   "execution_count": 2,
   "metadata": {},
   "outputs": [
    {
     "name": "stdin",
     "output_type": "stream",
     "text": [
      " 3\n",
      " 4\n",
      " 8\n",
      " -5\n"
     ]
    },
    {
     "name": "stdout",
     "output_type": "stream",
     "text": [
      "7 8 -5\n"
     ]
    }
   ],
   "source": [
    "n = int(input())\n",
    "summa = 0\n",
    "maxx = -100000\n",
    "minn = 100000\n",
    "for i in range (n):\n",
    "    a = int(input())\n",
    "    summa = a + summa\n",
    "    if a > maxx:\n",
    "        maxx = a\n",
    "    if a < minn:\n",
    "        minn = a\n",
    "    \n",
    "print(summa, maxx, minn)\n",
    "\n",
    "    "
   ]
  },
  {
   "cell_type": "markdown",
   "metadata": {
    "id": "F8nYllC7hCOB"
   },
   "source": [
    "**Задача 4**\n",
    "\n",
    " Пользователь вводит несколько целых чисел в одной строке через запятую и пробел. Выведите те числа, которые делятся на 7."
   ]
  },
  {
   "cell_type": "code",
   "execution_count": null,
   "metadata": {},
   "outputs": [],
   "source": []
  },
  {
   "cell_type": "code",
   "execution_count": 14,
   "metadata": {},
   "outputs": [
    {
     "data": {
      "text/plain": [
       "['1', '2', '3', '5']"
      ]
     },
     "execution_count": 14,
     "metadata": {},
     "output_type": "execute_result"
    }
   ],
   "source": [
    "s = \"1:2:3:5\"\n",
    "x = s.split(\":\")\n",
    "x"
   ]
  },
  {
   "cell_type": "code",
   "execution_count": 18,
   "metadata": {},
   "outputs": [],
   "source": [
    "w = []"
   ]
  },
  {
   "cell_type": "code",
   "execution_count": 19,
   "metadata": {},
   "outputs": [],
   "source": [
    "w.append(10)"
   ]
  },
  {
   "cell_type": "code",
   "execution_count": 20,
   "metadata": {},
   "outputs": [
    {
     "data": {
      "text/plain": [
       "[10]"
      ]
     },
     "execution_count": 20,
     "metadata": {},
     "output_type": "execute_result"
    }
   ],
   "source": [
    "w"
   ]
  },
  {
   "cell_type": "code",
   "execution_count": 21,
   "metadata": {},
   "outputs": [],
   "source": [
    "w.append(-6)"
   ]
  },
  {
   "cell_type": "code",
   "execution_count": 22,
   "metadata": {},
   "outputs": [
    {
     "data": {
      "text/plain": [
       "[10, -6]"
      ]
     },
     "execution_count": 22,
     "metadata": {},
     "output_type": "execute_result"
    }
   ],
   "source": [
    "w"
   ]
  },
  {
   "cell_type": "code",
   "execution_count": 17,
   "metadata": {},
   "outputs": [
    {
     "data": {
      "text/plain": [
       "[1, 2, 3, 5]"
      ]
     },
     "execution_count": 17,
     "metadata": {},
     "output_type": "execute_result"
    }
   ],
   "source": [
    "digits = []\n",
    "for p in x:\n",
    "    digits.append(int(p))\n",
    "digits"
   ]
  },
  {
   "cell_type": "code",
   "execution_count": null,
   "metadata": {},
   "outputs": [],
   "source": []
  },
  {
   "cell_type": "code",
   "execution_count": 3,
   "metadata": {},
   "outputs": [
    {
     "name": "stdin",
     "output_type": "stream",
     "text": [
      " 1, 9, 7, 14, 5\n"
     ]
    },
    {
     "name": "stdout",
     "output_type": "stream",
     "text": [
      "7\n",
      "14\n"
     ]
    }
   ],
   "source": [
    "a= input()\n",
    "b=a.split(', ')\n",
    "for i in range (len(b)):\n",
    "    if int(b[i])%7 ==0:\n",
    "        print (b[i])\n"
   ]
  },
  {
   "cell_type": "markdown",
   "metadata": {
    "id": "HZeBJs8chLNW"
   },
   "source": [
    "**Задача 5**\n",
    "\n",
    " Пользователь вводит последовательность целых чисел, разделяя их пробелом. Затем в новой строке вводится число m. Выведите те числа последовательности, которые больше числа m."
   ]
  },
  {
   "cell_type": "code",
   "execution_count": null,
   "metadata": {},
   "outputs": [],
   "source": [
    "s = input().split() # 1 2 3 4 5 6\n",
    "r = list(map(int, s))\n",
    "r"
   ]
  },
  {
   "cell_type": "code",
   "execution_count": null,
   "metadata": {},
   "outputs": [],
   "source": [
    "list(map(int, ['1', '2'])) => [int('1'), int('2')] => [1, 2]"
   ]
  },
  {
   "cell_type": "code",
   "execution_count": null,
   "metadata": {},
   "outputs": [],
   "source": [
    "lst = list(map(int, input().split()))"
   ]
  },
  {
   "cell_type": "code",
   "execution_count": null,
   "metadata": {},
   "outputs": [],
   "source": []
  },
  {
   "cell_type": "code",
   "execution_count": null,
   "metadata": {},
   "outputs": [],
   "source": []
  },
  {
   "cell_type": "markdown",
   "metadata": {
    "id": "iRwk5olLZ6lk"
   },
   "source": [
    "## Методы строк\n",
    "Вспомним основные методы строк:"
   ]
  },
  {
   "cell_type": "markdown",
   "metadata": {
    "id": "M3k-eWg9hqOn"
   },
   "source": [
    "* `.split()` - разделяет строку по разделителю. Возвращает список\n",
    "* `.replace()` - заменить подстроку в строке на другую подстроку\n",
    "* `.count()` - количество вхождений подстроки в строку\n",
    "* `.find()` -  индекс первого вхождения подстроки, и -1, если подстрока отсутствует\n",
    "* `.rfind()` -  индекс последнего вхождения подстроки, и -1, если подстрока отсутствует\n",
    "* `.strip()` -  возвращает копию строки, в которой были удалены определенные символы с начала и конца строки (символом по умолчанию является пробел)\n",
    "* `.startswith()` - проверяет, начинается ли строка с данной подстроки\n",
    "* `.isdigit()`  проверяет, что строка состоит только из цифр\n",
    "* `.islower()`  проверяет, что строка состоит только из букв нижнего регистра (строчных);\n",
    "* `.isupper()`  проверяет, что строка состоит только из букв верхнего регистра\n",
    "* `.isalpha()`  проверяет, что строка состоит только из букв\n",
    "* `.lower()` приведение строки к нижнему регистру\n",
    "* `.upper()` приведение строки к верхнему регистру\n",
    "* `.isalnum()`  проверяет, что строка состоит только из букв и цифр\n",
    "\n",
    "Подробности и больше методов в [документации](https://docs.python.org/3/library/stdtypes.html#str)"
   ]
  },
  {
   "cell_type": "code",
   "execution_count": null,
   "metadata": {
    "colab": {
     "base_uri": "https://localhost:8080/"
    },
    "id": "OBdjGZEBw2nO",
    "outputId": "227d2d98-7384-43b5-a972-333eb3aa2da3"
   },
   "outputs": [
    {
     "data": {
      "text/plain": [
       "['abc', 'def']"
      ]
     },
     "execution_count": 82,
     "metadata": {},
     "output_type": "execute_result"
    }
   ],
   "source": [
    "'abc     def'.split()"
   ]
  },
  {
   "cell_type": "code",
   "execution_count": null,
   "metadata": {
    "colab": {
     "base_uri": "https://localhost:8080/"
    },
    "id": "IcLcQG7HkY7p",
    "outputId": "ab2ebcbd-346b-40c9-86bf-0830af77732d"
   },
   "outputs": [
    {
     "data": {
      "text/plain": [
       "['abc     def']"
      ]
     },
     "execution_count": 83,
     "metadata": {},
     "output_type": "execute_result"
    }
   ],
   "source": [
    "'abc     def'.split('-')"
   ]
  },
  {
   "cell_type": "code",
   "execution_count": null,
   "metadata": {
    "colab": {
     "base_uri": "https://localhost:8080/"
    },
    "id": "UmuTftf-kYKY",
    "outputId": "8a084682-bfd3-471e-e753-f0c515cc6fd7"
   },
   "outputs": [
    {
     "data": {
      "text/plain": [
       "['abc ', 'def', '']"
      ]
     },
     "execution_count": 85,
     "metadata": {},
     "output_type": "execute_result"
    }
   ],
   "source": [
    "'abc -def-'.split('-')"
   ]
  },
  {
   "cell_type": "markdown",
   "metadata": {
    "id": "WqUPg6A7bKUS"
   },
   "source": [
    "## Методы списков\n",
    "\n",
    "* `.append()` добавляет элемент в конец списка\n",
    "* `.insert()` добавляет элемент в произвольное место списка\n",
    "* `.count()` количество вхождений определенного элемента\n",
    "* `.remove()` удаляет элемент из списка\n",
    "* `.reverse()` - вовращает список, в котором элементы идут наоборот по сравнению с исходным списком\n",
    "* `.copy()` - возвращает копию списка\n",
    "\n",
    "Подробности и больше методов в [документации](https://docs.python.org/3/tutorial/datastructures.html)"
   ]
  },
  {
   "cell_type": "code",
   "execution_count": null,
   "metadata": {
    "id": "vqKzpdMtknR_"
   },
   "outputs": [],
   "source": [
    "lst = [1, 4, 2, 3]"
   ]
  },
  {
   "cell_type": "code",
   "execution_count": null,
   "metadata": {
    "id": "7nTYT5RAkqj-"
   },
   "outputs": [],
   "source": [
    "lst.append(7)"
   ]
  },
  {
   "cell_type": "code",
   "execution_count": null,
   "metadata": {
    "colab": {
     "base_uri": "https://localhost:8080/"
    },
    "id": "XmyJs8Tqkupm",
    "outputId": "b54baa2b-f21b-4b79-d052-5a33e408d3c5"
   },
   "outputs": [
    {
     "data": {
      "text/plain": [
       "[1, 4, 2, 3, 7]"
      ]
     },
     "execution_count": 88,
     "metadata": {},
     "output_type": "execute_result"
    }
   ],
   "source": [
    "lst"
   ]
  },
  {
   "cell_type": "markdown",
   "metadata": {
    "id": "ADleZCCQc6Ii"
   },
   "source": [
    "**Задача 1.**\n",
    "  На вход программе подается строка чисел, разделенных пробелом. Считайте эти числа в список.\n",
    "\n",
    "  Найдите:\n",
    "1. длину списка\n",
    "2. количество нулей\n",
    "3. есть ли в списке число 4 (True или False)\n",
    "4. сумму всех чисел списка\n",
    "5. удвоенный список (конкатенация)\n",
    "6. максимальный и минимальный элемент, через пробел  \n",
    "Гарантируется, что на вход не будет подаваться пустая строка.  \n",
    "Если максимальный и минимальный элемент совпадают, то выведете только один из них."
   ]
  },
  {
   "cell_type": "code",
   "execution_count": null,
   "metadata": {
    "id": "A_WxEBF9dSzs"
   },
   "outputs": [],
   "source": [
    "# здесь мы можем решить эту задачу\n"
   ]
  },
  {
   "cell_type": "markdown",
   "metadata": {
    "id": "X6lESjMgdS_A"
   },
   "source": [
    "**Задача 2.**\n",
    "На вход подается строка, где все буквы в нижнем регистре. Нужно вывести эту же строку,  заменив каждую вторую букву, начиная с первой на заглавную. Например, 'abcde' -> 'AbCdE'"
   ]
  },
  {
   "cell_type": "raw",
   "metadata": {
    "id": "3-3zb8p87tQV"
   },
   "source": [
    "for char"
   ]
  },
  {
   "cell_type": "markdown",
   "metadata": {
    "id": "oDY-W0gxdkeT"
   },
   "source": [
    "**Задача 3.**\n",
    "Вам нужно написать программу, которая проверяет корректность созданных паролей. Пароль - это строка из разных символов, которая подается на вход вашей программе. Гарантируется, что строка не нулевая и состоит только из букв и цифр. Реализуйте проверку следующих требований к паролям:\n",
    "1. В пароле есть хотя бы одна цифра, хотя бы одна заглавная и хотя бы одна строчная буква\n",
    "2. Пароль НЕ начинается с фраз: `qwerty`, `12345`, `password`\n",
    "3. Пароль не содержит в себе логин пользователя\n",
    "\n",
    "Программа принимает на вход логин и пароль пользователя, и выводит \"YES\", если пароль корректен (пароль считается корректным, если удовлетворяет всем трём условиям выше), и \"NO\" в противном случае."
   ]
  },
  {
   "cell_type": "code",
   "execution_count": null,
   "metadata": {
    "id": "b4Owtuljeoe1"
   },
   "outputs": [],
   "source": [
    "# здесь мы можем решить эту задачу"
   ]
  },
  {
   "cell_type": "markdown",
   "metadata": {
    "id": "rWoL3NIGeorL"
   },
   "source": [
    "**Задача 4** (из банка заданий НЭ)\n",
    "\n",
    "Реализуйте программу, которая сохраняет в список все строки, состоящие только из символов в нижнем регистре.\n",
    "\n",
    "В цикле while считываются строки до тех пор, пока не введена строка 'END'.\n",
    "Для каждой вводимой строки сделайте проверку: если в строке содержатся только символы в нижнем регистре, то добавьте ее в список.\n",
    "Гарантируется, что до строки 'END' будет введена как минимум одна строка.\n",
    "Напечатайте получившийся список. Строки должны быть добавлены в список в том же порядке, что и при вводе.\n",
    "\n",
    "**ПРИМЕР ВВОДА**\n",
    "\n",
    "питон  \n",
    "матеМатика  \n",
    "История  \n",
    "ЭКОНОМИКА  \n",
    "география!  \n",
    "END  \n",
    "\n",
    "**ПРИМЕР ВЫВОДА**\n",
    "\n",
    "['питон', 'география!']"
   ]
  },
  {
   "cell_type": "code",
   "execution_count": null,
   "metadata": {
    "id": "TojmEOOcfqTl"
   },
   "outputs": [],
   "source": [
    "# здесь мы можем решить эту задачу"
   ]
  },
  {
   "cell_type": "markdown",
   "metadata": {
    "id": "MJZ_Nv_YfqhO"
   },
   "source": [
    "**Задача 5** (из банка заданий НЭ)\n",
    "\n",
    "\n",
    "Реализуйте программу, которая сохраняет в список длинные адреса электронных почт.\n",
    "\n",
    "Задан пустой список emails.\n",
    "* В цикле while считываются строки до тех пор, пока не введена строка 'END'.\n",
    "* Для каждой вводимой строки сделайте проверку: если в строке содержится символ \"@\" и она длиннее 18 символов, то добавьте ее в список emails.\n",
    "* Гарантируется, что до строки 'END' будет введена как минимум одна строка.\n",
    "* Напечатайте список emails. Строки в нем должны идти в том же порядке, что и при вводе.\n",
    "\n",
    "**ФОРМАТ ВВОДА**\n",
    "\n",
    " mymailru@mail.com    \n",
    " superpuperstudent@hse.com  \n",
    " ma777ivanova@rambler.ru  \n",
    "END    \n",
    "\n",
    "**ФОРМАТ ВЫВОДА**\n",
    "\n",
    "['superpuperstudent@hse.com', 'ma777ivanova@rambler.ru']"
   ]
  },
  {
   "cell_type": "code",
   "execution_count": null,
   "metadata": {
    "id": "fYZEpgOGf2CI"
   },
   "outputs": [],
   "source": [
    "# здесь мы можем решить эту задачу"
   ]
  },
  {
   "cell_type": "markdown",
   "metadata": {
    "id": "OfHGgexXg5X6"
   },
   "source": [
    "**Задача 6.** Ассистент собирает оценки студентов и хочет узнать, какая получилась средняя оценка за курс.\n",
    "\n",
    "ФОРМАТ ВВОДА\n",
    "\n",
    "Программа получает на вход число студентов в группе N.\n",
    "Далее идет N строк, в каждой строке записан результат в виде \"оценка 5\"\n",
    "\n",
    "\n",
    "ФОРМАТ ВЫВОДА\n",
    "\n",
    "Вещественное число — средняя оценка всех участников."
   ]
  },
  {
   "cell_type": "code",
   "execution_count": null,
   "metadata": {
    "id": "n0C5vM3Jg6AH"
   },
   "outputs": [],
   "source": [
    "# здесь мы можем решить эту задачу"
   ]
  }
 ],
 "metadata": {
  "colab": {
   "provenance": []
  },
  "kernelspec": {
   "display_name": "Python 3 (ipykernel)",
   "language": "python",
   "name": "python3"
  },
  "language_info": {
   "codemirror_mode": {
    "name": "ipython",
    "version": 3
   },
   "file_extension": ".py",
   "mimetype": "text/x-python",
   "name": "python",
   "nbconvert_exporter": "python",
   "pygments_lexer": "ipython3",
   "version": "3.10.12"
  }
 },
 "nbformat": 4,
 "nbformat_minor": 4
}
