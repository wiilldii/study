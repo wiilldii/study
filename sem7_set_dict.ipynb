{
 "cells": [
  {
   "cell_type": "markdown",
   "metadata": {
    "id": "HRIOizt9QMQE"
   },
   "source": [
    "## Множества\n",
    "\n",
    "Множества - неупорядоченный набор **уникальных** объектов.\n",
    "* множества не поддерживают операций среза и индексирования\n",
    "* множества не содержат дубликаты элементов\n",
    "* элементы множества неизменяемые, но сами множества изменяемые"
   ]
  },
  {
   "cell_type": "markdown",
   "metadata": {
    "id": "0_PQ4MY0V4xa"
   },
   "source": [
    "#### Действия со множествами"
   ]
  },
  {
   "cell_type": "code",
   "execution_count": null,
   "metadata": {
    "id": "Fyh_QsrNVR-z"
   },
   "outputs": [],
   "source": [
    "my_set = {1, 4, 2, 2, 0}\n",
    "empty_set = set()"
   ]
  },
  {
   "cell_type": "code",
   "execution_count": null,
   "metadata": {
    "colab": {
     "base_uri": "https://localhost:8080/"
    },
    "id": "DYdftGGSnRqu",
    "outputId": "b36f48ab-2c00-47b9-ee90-af13ba9451de"
   },
   "outputs": [
    {
     "data": {
      "text/plain": [
       "{0, 1, 2, 4}"
      ]
     },
     "execution_count": 70,
     "metadata": {},
     "output_type": "execute_result"
    }
   ],
   "source": [
    "my_set"
   ]
  },
  {
   "cell_type": "markdown",
   "metadata": {
    "id": "5kTY5ihyOaIs"
   },
   "source": [
    "В ячейке выше мы создаем два множества. Первое множество my_set содержит 4 элемента: числа 1, 4, 2 и 0 (элемент входит во множество только один раз).\n",
    "Чтобы создать множество, можно перечислить его элементы в фигурных скобках.\n",
    "Второе множество empty_set не содержит элементов. Пустое множество создается с помощью функции set (с помощью пустых фигурных скобок создается не множество, а словарь, про которые мы поговорим чуть позже)."
   ]
  },
  {
   "cell_type": "markdown",
   "metadata": {
    "id": "LBaTyXdLSHxk"
   },
   "source": [
    "Порядок элементов во множестве не гарантируется:"
   ]
  },
  {
   "cell_type": "code",
   "execution_count": null,
   "metadata": {
    "colab": {
     "base_uri": "https://localhost:8080/"
    },
    "id": "iJ74d4W9R_L5",
    "outputId": "f9d6ff7c-f9c7-4e4a-bf0e-7511ce8f4c5e"
   },
   "outputs": [
    {
     "name": "stdout",
     "output_type": "stream",
     "text": [
      "{0, 1, 2, 4}\n"
     ]
    }
   ],
   "source": [
    "print(my_set)"
   ]
  },
  {
   "cell_type": "markdown",
   "metadata": {
    "id": "R57qHFq6SAyV"
   },
   "source": [
    "Поэтому, например, к элементам множества нельзя обратиться по индексу"
   ]
  },
  {
   "cell_type": "code",
   "execution_count": null,
   "metadata": {
    "colab": {
     "base_uri": "https://localhost:8080/",
     "height": 141
    },
    "id": "l0Wex-i3-nAG",
    "outputId": "94822704-b1da-41ee-935f-7eeee9c28df9"
   },
   "outputs": [
    {
     "ename": "TypeError",
     "evalue": "'set' object is not subscriptable",
     "output_type": "error",
     "traceback": [
      "\u001b[0;31m---------------------------------------------------------------------------\u001b[0m",
      "\u001b[0;31mTypeError\u001b[0m                                 Traceback (most recent call last)",
      "\u001b[0;32m<ipython-input-72-c587ee9e474b>\u001b[0m in \u001b[0;36m<cell line: 1>\u001b[0;34m()\u001b[0m\n\u001b[0;32m----> 1\u001b[0;31m \u001b[0mmy_set\u001b[0m\u001b[0;34m[\u001b[0m\u001b[0;36m0\u001b[0m\u001b[0;34m]\u001b[0m \u001b[0;31m# не можем обратиться к элементам множества по индексу\u001b[0m\u001b[0;34m\u001b[0m\u001b[0;34m\u001b[0m\u001b[0m\n\u001b[0m",
      "\u001b[0;31mTypeError\u001b[0m: 'set' object is not subscriptable"
     ]
    }
   ],
   "source": [
    "my_set[0] # не можем обратиться к элементам множества по индексу"
   ]
  },
  {
   "cell_type": "markdown",
   "metadata": {
    "id": "arQc-gNqSytT"
   },
   "source": [
    "Множество может содержать элементы разных типов данных, *но все они должны относиться к неизменяемым типам данных*. Это связано с внутренней структурой множества.\n"
   ]
  },
  {
   "cell_type": "code",
   "execution_count": null,
   "metadata": {
    "id": "NuQ4HvsUUWlA"
   },
   "outputs": [],
   "source": [
    "our_set = {1, 'abc', 2, 'def', (1, 2)}"
   ]
  },
  {
   "cell_type": "code",
   "execution_count": null,
   "metadata": {
    "colab": {
     "base_uri": "https://localhost:8080/",
     "height": 141
    },
    "id": "fmB-uVByUaQw",
    "outputId": "7645e1e1-715d-48c4-9e93-fc94ec67b293"
   },
   "outputs": [
    {
     "ename": "TypeError",
     "evalue": "unhashable type: 'list'",
     "output_type": "error",
     "traceback": [
      "\u001b[0;31m---------------------------------------------------------------------------\u001b[0m",
      "\u001b[0;31mTypeError\u001b[0m                                 Traceback (most recent call last)",
      "\u001b[0;32m<ipython-input-74-e5931cc6d9e2>\u001b[0m in \u001b[0;36m<cell line: 1>\u001b[0;34m()\u001b[0m\n\u001b[0;32m----> 1\u001b[0;31m \u001b[0mour_set_2\u001b[0m \u001b[0;34m=\u001b[0m \u001b[0;34m{\u001b[0m\u001b[0;36m1\u001b[0m\u001b[0;34m,\u001b[0m \u001b[0;34m'abc'\u001b[0m\u001b[0;34m,\u001b[0m \u001b[0;36m2\u001b[0m\u001b[0;34m,\u001b[0m \u001b[0;34m'def'\u001b[0m\u001b[0;34m,\u001b[0m \u001b[0;34m[\u001b[0m\u001b[0;36m1\u001b[0m\u001b[0;34m,\u001b[0m \u001b[0;36m2\u001b[0m\u001b[0;34m]\u001b[0m\u001b[0;34m}\u001b[0m \u001b[0;31m# список (изменяемый тип данных) элементом множества быть не может, поэтому получим ошибку\u001b[0m\u001b[0;34m\u001b[0m\u001b[0;34m\u001b[0m\u001b[0m\n\u001b[0m",
      "\u001b[0;31mTypeError\u001b[0m: unhashable type: 'list'"
     ]
    }
   ],
   "source": [
    "our_set_2 = {1, 'abc', 2, 'def', [1, 2]} # список (изменяемый тип данных) элементом множества быть не может, поэтому получим ошибку"
   ]
  },
  {
   "cell_type": "markdown",
   "metadata": {
    "id": "JWCBD2uEVIfp"
   },
   "source": [
    "*При этом сами множества - изменяемые.* Например, в них можно добавлять элементы после создания."
   ]
  },
  {
   "cell_type": "markdown",
   "metadata": {
    "id": "euX9jRhNSw6y"
   },
   "source": [
    "### Операции над множествами"
   ]
  },
  {
   "cell_type": "markdown",
   "metadata": {
    "id": "3uLP2-gEUv0F"
   },
   "source": [
    "Рассмотрим операции над множествами на примере двух множеств."
   ]
  },
  {
   "cell_type": "code",
   "execution_count": null,
   "metadata": {
    "id": "zkDhInjSUzd0"
   },
   "outputs": [],
   "source": [
    "set1 = {1, 2, 3, 4, 5}\n",
    "set2 = {4, 5, 6, 7, 8}"
   ]
  },
  {
   "cell_type": "markdown",
   "metadata": {
    "id": "y2umjnOiVae8"
   },
   "source": [
    "Мы можем проверить наличие элемента во множестве с помощью оператора *in:*"
   ]
  },
  {
   "cell_type": "code",
   "execution_count": null,
   "metadata": {
    "colab": {
     "base_uri": "https://localhost:8080/"
    },
    "id": "Y2PflcZwVa7S",
    "outputId": "f37c44d9-18fa-4aac-952c-54ff88109025"
   },
   "outputs": [
    {
     "data": {
      "text/plain": [
       "True"
      ]
     },
     "execution_count": 76,
     "metadata": {},
     "output_type": "execute_result"
    }
   ],
   "source": [
    "1 in set1"
   ]
  },
  {
   "cell_type": "code",
   "execution_count": null,
   "metadata": {
    "colab": {
     "base_uri": "https://localhost:8080/"
    },
    "id": "1ZXhWgQYVcUO",
    "outputId": "c3ae6983-3868-48bd-d039-cc246a8027fb"
   },
   "outputs": [
    {
     "data": {
      "text/plain": [
       "False"
      ]
     },
     "execution_count": 77,
     "metadata": {},
     "output_type": "execute_result"
    }
   ],
   "source": [
    "10 in set1"
   ]
  },
  {
   "cell_type": "markdown",
   "metadata": {
    "id": "ig3hDJegU_Jh"
   },
   "source": [
    "`len` - количество элементов во множестве"
   ]
  },
  {
   "cell_type": "code",
   "execution_count": null,
   "metadata": {
    "colab": {
     "base_uri": "https://localhost:8080/"
    },
    "id": "4jnAaNqwUq8K",
    "outputId": "95df9ecd-afc2-48ab-a786-6fa87a675296"
   },
   "outputs": [
    {
     "data": {
      "text/plain": [
       "5"
      ]
     },
     "execution_count": 78,
     "metadata": {},
     "output_type": "execute_result"
    }
   ],
   "source": [
    "len(set1)"
   ]
  },
  {
   "cell_type": "markdown",
   "metadata": {
    "id": "si3ebUSWVFIF"
   },
   "source": [
    "`add` - добавление элемента во множество. Если элемент уже есть во множестве, ничего не произойдет."
   ]
  },
  {
   "cell_type": "code",
   "execution_count": null,
   "metadata": {
    "id": "laBl9YjSU6Un"
   },
   "outputs": [],
   "source": [
    "set2.add(9)"
   ]
  },
  {
   "cell_type": "code",
   "execution_count": null,
   "metadata": {
    "colab": {
     "base_uri": "https://localhost:8080/"
    },
    "id": "iVvWR2QnVhG0",
    "outputId": "eb8e9b5c-2624-4461-abd6-1a48456f343e"
   },
   "outputs": [
    {
     "data": {
      "text/plain": [
       "{4, 5, 6, 7, 8, 9}"
      ]
     },
     "execution_count": 80,
     "metadata": {},
     "output_type": "execute_result"
    }
   ],
   "source": [
    "set2 # исходное множество изменилось"
   ]
  },
  {
   "cell_type": "markdown",
   "metadata": {
    "id": "z12o2UfKVufM"
   },
   "source": [
    "`.remove()` , `.discard()`, `.pop()` - удаление элемента. При этом между методами есть некоторые различия:\n",
    "`.remove()` - удаляет указанный элемент, при этом если элемента нет, получается ошибка `KeyError`,\n",
    "`.discard()`  - удаляет указанный *элемент*, если элемента нет - ничего не происходит\n",
    "`.pop()` - удаляет случайный элемент и возвращает его как результат"
   ]
  },
  {
   "cell_type": "code",
   "execution_count": null,
   "metadata": {
    "colab": {
     "base_uri": "https://localhost:8080/"
    },
    "id": "v8gBC1MtWMS3",
    "outputId": "169439b1-4541-4c86-a468-85f85c941496"
   },
   "outputs": [
    {
     "data": {
      "text/plain": [
       "{4, 5, 6, 7, 8, 9}"
      ]
     },
     "execution_count": 81,
     "metadata": {},
     "output_type": "execute_result"
    }
   ],
   "source": [
    "set2"
   ]
  },
  {
   "cell_type": "code",
   "execution_count": null,
   "metadata": {
    "id": "_aDw6vGpWOD6"
   },
   "outputs": [],
   "source": [
    "set2.discard(9)"
   ]
  },
  {
   "cell_type": "code",
   "execution_count": null,
   "metadata": {
    "colab": {
     "base_uri": "https://localhost:8080/"
    },
    "id": "P9spdVPeWWFI",
    "outputId": "7bee58c8-7d16-4595-98e7-ab9ad4ccd6ff"
   },
   "outputs": [
    {
     "data": {
      "text/plain": [
       "{4, 5, 6, 7, 8}"
      ]
     },
     "execution_count": 85,
     "metadata": {},
     "output_type": "execute_result"
    }
   ],
   "source": [
    "set2"
   ]
  },
  {
   "cell_type": "code",
   "execution_count": null,
   "metadata": {
    "id": "Di8nsid2WQdT"
   },
   "outputs": [],
   "source": [
    "set2.discard(9)"
   ]
  },
  {
   "cell_type": "code",
   "execution_count": null,
   "metadata": {
    "id": "2XHn17OIohQp"
   },
   "outputs": [],
   "source": [
    "set2 = {4, 5, 6, 7, 8, 9}"
   ]
  },
  {
   "cell_type": "code",
   "execution_count": null,
   "metadata": {
    "id": "DMqGZWvuWYAJ"
   },
   "outputs": [],
   "source": [
    "set2.remove(9) # получим ошибку"
   ]
  },
  {
   "cell_type": "code",
   "execution_count": null,
   "metadata": {
    "colab": {
     "base_uri": "https://localhost:8080/"
    },
    "id": "bB2wyzKkokzG",
    "outputId": "5a9563fc-c77c-48b0-c47b-4227546cc7ec"
   },
   "outputs": [
    {
     "data": {
      "text/plain": [
       "{4, 5, 6, 7, 8}"
      ]
     },
     "execution_count": 88,
     "metadata": {},
     "output_type": "execute_result"
    }
   ],
   "source": [
    "set2"
   ]
  },
  {
   "cell_type": "code",
   "execution_count": null,
   "metadata": {
    "colab": {
     "base_uri": "https://localhost:8080/",
     "height": 141
    },
    "id": "QhkZJogromcm",
    "outputId": "2053ad46-a488-4dde-e559-3045d1ad1802"
   },
   "outputs": [
    {
     "ename": "KeyError",
     "evalue": "9",
     "output_type": "error",
     "traceback": [
      "\u001b[0;31m---------------------------------------------------------------------------\u001b[0m",
      "\u001b[0;31mKeyError\u001b[0m                                  Traceback (most recent call last)",
      "\u001b[0;32m<ipython-input-89-2bdec9f9a381>\u001b[0m in \u001b[0;36m<cell line: 1>\u001b[0;34m()\u001b[0m\n\u001b[0;32m----> 1\u001b[0;31m \u001b[0mset2\u001b[0m\u001b[0;34m.\u001b[0m\u001b[0mremove\u001b[0m\u001b[0;34m(\u001b[0m\u001b[0;36m9\u001b[0m\u001b[0;34m)\u001b[0m\u001b[0;34m\u001b[0m\u001b[0;34m\u001b[0m\u001b[0m\n\u001b[0m",
      "\u001b[0;31mKeyError\u001b[0m: 9"
     ]
    }
   ],
   "source": [
    "set2.remove(9)"
   ]
  },
  {
   "cell_type": "code",
   "execution_count": null,
   "metadata": {
    "colab": {
     "base_uri": "https://localhost:8080/",
     "height": 141
    },
    "id": "fI5tyE-jWbB9",
    "outputId": "47310526-bded-4a49-9c58-e3230d11e96b"
   },
   "outputs": [
    {
     "ename": "KeyError",
     "evalue": "'pop from an empty set'",
     "output_type": "error",
     "traceback": [
      "\u001b[0;31m---------------------------------------------------------------------------\u001b[0m",
      "\u001b[0;31mKeyError\u001b[0m                                  Traceback (most recent call last)",
      "\u001b[0;32m<ipython-input-104-a377b03303cc>\u001b[0m in \u001b[0;36m<cell line: 1>\u001b[0;34m()\u001b[0m\n\u001b[0;32m----> 1\u001b[0;31m \u001b[0mset2\u001b[0m\u001b[0;34m.\u001b[0m\u001b[0mpop\u001b[0m\u001b[0;34m(\u001b[0m\u001b[0;34m)\u001b[0m\u001b[0;34m\u001b[0m\u001b[0;34m\u001b[0m\u001b[0m\n\u001b[0m",
      "\u001b[0;31mKeyError\u001b[0m: 'pop from an empty set'"
     ]
    }
   ],
   "source": [
    "set2.pop()"
   ]
  },
  {
   "cell_type": "code",
   "execution_count": null,
   "metadata": {
    "colab": {
     "base_uri": "https://localhost:8080/"
    },
    "id": "bpxMfdHeWeCX",
    "outputId": "2b595f12-35e3-45ae-9792-91becd15a6b1"
   },
   "outputs": [
    {
     "data": {
      "text/plain": [
       "{7, 8, 9}"
      ]
     },
     "execution_count": 100,
     "metadata": {},
     "output_type": "execute_result"
    }
   ],
   "source": [
    "set2"
   ]
  },
  {
   "cell_type": "markdown",
   "metadata": {
    "id": "zLu28-BvWpQW"
   },
   "source": [
    "`.clear()` - удаляет все элементы из множества"
   ]
  },
  {
   "cell_type": "code",
   "execution_count": null,
   "metadata": {
    "id": "bpG_xEozWmJN"
   },
   "outputs": [],
   "source": [
    "set2.clear()"
   ]
  },
  {
   "cell_type": "code",
   "execution_count": null,
   "metadata": {
    "colab": {
     "base_uri": "https://localhost:8080/"
    },
    "id": "9F8O6cPnWv9S",
    "outputId": "1eda40e1-d030-4ac9-fb75-d53d6d304702"
   },
   "outputs": [
    {
     "data": {
      "text/plain": [
       "set()"
      ]
     },
     "execution_count": 93,
     "metadata": {},
     "output_type": "execute_result"
    }
   ],
   "source": [
    "set2"
   ]
  },
  {
   "cell_type": "code",
   "execution_count": null,
   "metadata": {
    "id": "HO6ZZkuIWyjL"
   },
   "outputs": [],
   "source": [
    "set1 = {1, 2, 3, 4, 5}\n",
    "set2 = {4, 5, 6, 7, 8}"
   ]
  },
  {
   "cell_type": "markdown",
   "metadata": {
    "id": "0Is8UjL0W5XR"
   },
   "source": [
    "Над множествами можно также выполнять операции *объединения*, *пересечения* и *разности*, которые могут быть вам знакомы из алгебры логики."
   ]
  },
  {
   "cell_type": "markdown",
   "metadata": {
    "id": "BsZX-iZmXQ0H"
   },
   "source": [
    "*Объединение* - операция над двумя множествами, которая возвращает множество, содержащее элементы, присутствующие хотя бы в одном (или в обоих) из исходных множеств.\n",
    "\n",
    "Применить такую операцию в python можно двумя способами:"
   ]
  },
  {
   "cell_type": "code",
   "execution_count": null,
   "metadata": {
    "colab": {
     "base_uri": "https://localhost:8080/"
    },
    "id": "L46HWw1vVSCD",
    "outputId": "f4b86ef1-1d5e-47e0-ed07-9ff730f36f04"
   },
   "outputs": [
    {
     "name": "stdout",
     "output_type": "stream",
     "text": [
      "{1, 2, 3, 4, 5, 6, 7, 8}\n",
      "{1, 2, 3, 4, 5, 6, 7, 8}\n"
     ]
    }
   ],
   "source": [
    "print(set1 | set2) # оператор |\n",
    "print(set1.union(set2)) # метод union, которое мы применяем к первому множеству, используя как аргумент второе множество"
   ]
  },
  {
   "cell_type": "markdown",
   "metadata": {
    "id": "K99St20PXwKK"
   },
   "source": [
    "*Перечечение* - операция над двумя множествами, которая возвращает множество, содержащее элементы, присутствующие **в обоих** исходных множествах."
   ]
  },
  {
   "cell_type": "code",
   "execution_count": null,
   "metadata": {
    "colab": {
     "base_uri": "https://localhost:8080/"
    },
    "id": "mLwmKKeyXBgY",
    "outputId": "d30ea535-ee58-4ee7-a6f7-1855043914f4"
   },
   "outputs": [
    {
     "name": "stdout",
     "output_type": "stream",
     "text": [
      "{4, 5}\n",
      "{4, 5}\n"
     ]
    }
   ],
   "source": [
    "print(set1 & set2) # оператор &\n",
    "print(set1.intersection(set2)) # метод intersection, которое мы применяем к первому множеству, используя как аргумент второе множество"
   ]
  },
  {
   "cell_type": "markdown",
   "metadata": {
    "id": "uro9LKI8YgZN"
   },
   "source": [
    "*Симметрическая разность (Исключающее ИЛИ)* - операция, которая возвращает можества, присутствующее ровно в одном из исходных множеств."
   ]
  },
  {
   "cell_type": "code",
   "execution_count": null,
   "metadata": {
    "colab": {
     "base_uri": "https://localhost:8080/"
    },
    "id": "Dxir7nM1XCeX",
    "outputId": "66244b0e-3a4f-4b26-ee57-7208fe4fdf93"
   },
   "outputs": [
    {
     "name": "stdout",
     "output_type": "stream",
     "text": [
      "{1, 2, 3, 6, 7, 8}\n",
      "{1, 2, 3, 6, 7, 8}\n"
     ]
    }
   ],
   "source": [
    "print(set1 ^ set2) # оператор ^\n",
    "print(set1.symmetric_difference(set2)) # метод symmetric_difference, которое мы применяем к первому множеству, используя как аргумент второе множество"
   ]
  },
  {
   "cell_type": "markdown",
   "metadata": {
    "id": "njP9cf_mY3td"
   },
   "source": [
    "*Разность множеств a и b* - это множество из элементов a и b, которое содержит элементы множества a, которые не входят во множство b."
   ]
  },
  {
   "cell_type": "code",
   "execution_count": null,
   "metadata": {
    "colab": {
     "base_uri": "https://localhost:8080/"
    },
    "id": "9RLTUUO3113o",
    "outputId": "e9d40852-7c0b-42c0-df9e-9769a096284a"
   },
   "outputs": [
    {
     "name": "stdout",
     "output_type": "stream",
     "text": [
      "{1, 2, 3}\n",
      "{1, 2, 3}\n"
     ]
    }
   ],
   "source": [
    "print(set1 - set2)\n",
    "print(set1.difference(set2))"
   ]
  },
  {
   "cell_type": "code",
   "execution_count": null,
   "metadata": {
    "colab": {
     "base_uri": "https://localhost:8080/"
    },
    "id": "3JP9DXll2EMU",
    "outputId": "e46e38bc-116c-4e17-d4a5-99535878422a"
   },
   "outputs": [
    {
     "name": "stdout",
     "output_type": "stream",
     "text": [
      "{8, 6, 7}\n",
      "{8, 6, 7}\n"
     ]
    }
   ],
   "source": [
    "print(set2 - set1)\n",
    "print(set2.difference(set1))"
   ]
  },
  {
   "cell_type": "markdown",
   "metadata": {
    "id": "45UjqlVPZmaC"
   },
   "source": [
    "Также множества можно сравнивать друг с другом.\n",
    "Операция `set1 == set2`, примененная к двум множествам, вернёт True, если множества  `set1` и `set2` содержат одни и те же элементы, и нет элементов, которые есть в одном из множеств и отсутствуют в другом.\n"
   ]
  },
  {
   "cell_type": "code",
   "execution_count": null,
   "metadata": {
    "id": "o2onZoNFaNGC"
   },
   "outputs": [],
   "source": [
    "set1 = {1, 2, 3, 4, 5}\n",
    "set2 = {4, 5, 6, 7, 8}"
   ]
  },
  {
   "cell_type": "code",
   "execution_count": null,
   "metadata": {
    "colab": {
     "base_uri": "https://localhost:8080/"
    },
    "id": "5EMF1tyrqBJ1",
    "outputId": "e2ef94ea-3a25-475b-c329-5bb53c18a507"
   },
   "outputs": [
    {
     "data": {
      "text/plain": [
       "False"
      ]
     },
     "execution_count": 113,
     "metadata": {},
     "output_type": "execute_result"
    }
   ],
   "source": [
    "set1 == set2"
   ]
  },
  {
   "cell_type": "code",
   "execution_count": null,
   "metadata": {
    "colab": {
     "base_uri": "https://localhost:8080/"
    },
    "id": "4ykhJD0Mawxk",
    "outputId": "3edb12bd-1b1f-4816-a0c3-443f92a4d2ab"
   },
   "outputs": [
    {
     "data": {
      "text/plain": [
       "False"
      ]
     },
     "execution_count": 114,
     "metadata": {},
     "output_type": "execute_result"
    }
   ],
   "source": [
    "{1, 2, 3} == {1, 3, 2, 4}"
   ]
  },
  {
   "cell_type": "code",
   "execution_count": null,
   "metadata": {
    "colab": {
     "base_uri": "https://localhost:8080/"
    },
    "id": "_4e6AW7Yax9D",
    "outputId": "a9a399d3-6a77-4ee9-bd25-daf2e3037367"
   },
   "outputs": [
    {
     "data": {
      "text/plain": [
       "True"
      ]
     },
     "execution_count": 115,
     "metadata": {},
     "output_type": "execute_result"
    }
   ],
   "source": [
    "{1, 2, 3} == {1, 3, 2}"
   ]
  },
  {
   "cell_type": "markdown",
   "metadata": {
    "id": "15AQ6Hsma5PW"
   },
   "source": [
    "Операция `set1 >= set2`, вернёт True, если множество  `set2` является подмножеством `set1`, т.е. все элементы `set2` присутствуют в множестве `set1`.\n"
   ]
  },
  {
   "cell_type": "code",
   "execution_count": null,
   "metadata": {
    "colab": {
     "base_uri": "https://localhost:8080/"
    },
    "id": "Hf7QDHLva3yG",
    "outputId": "5b90693b-102c-4e63-d8e9-c70a1b1559b4"
   },
   "outputs": [
    {
     "data": {
      "text/plain": [
       "True"
      ]
     },
     "execution_count": 124,
     "metadata": {},
     "output_type": "execute_result"
    }
   ],
   "source": [
    "{1, 2, 3} <= {1, 3, 2, 4}"
   ]
  },
  {
   "cell_type": "code",
   "execution_count": null,
   "metadata": {
    "colab": {
     "base_uri": "https://localhost:8080/"
    },
    "id": "vxpZEyM-qr4V",
    "outputId": "9847329f-f64a-4c83-b23f-920e7fb6113b"
   },
   "outputs": [
    {
     "data": {
      "text/plain": [
       "True"
      ]
     },
     "execution_count": 122,
     "metadata": {},
     "output_type": "execute_result"
    }
   ],
   "source": [
    "{1, 4} <= {1, 3, 2, 4}"
   ]
  },
  {
   "cell_type": "code",
   "execution_count": null,
   "metadata": {
    "colab": {
     "base_uri": "https://localhost:8080/"
    },
    "id": "Pzsadq5pbLyw",
    "outputId": "ffc7550b-e430-4ff9-9fc3-14eaf41f2907"
   },
   "outputs": [
    {
     "data": {
      "text/plain": [
       "False"
      ]
     },
     "execution_count": 123,
     "metadata": {},
     "output_type": "execute_result"
    }
   ],
   "source": [
    "{1, 2, 3, 5} <= {1, 3, 2, 4}"
   ]
  },
  {
   "cell_type": "code",
   "execution_count": null,
   "metadata": {
    "colab": {
     "base_uri": "https://localhost:8080/"
    },
    "id": "oXwXDyTqbb4o",
    "outputId": "c49f699c-3a3d-408c-fc33-14f008cc5781"
   },
   "outputs": [
    {
     "data": {
      "text/plain": [
       "True"
      ]
     },
     "execution_count": 120,
     "metadata": {},
     "output_type": "execute_result"
    }
   ],
   "source": [
    "{1, 2, 3} <= {1, 3, 2}"
   ]
  },
  {
   "cell_type": "markdown",
   "metadata": {
    "id": "KkDqyXYKbThQ"
   },
   "source": [
    "Операция `set1 > set2`, вернёт True, если все элементы `set2` присутствуют в множестве `set1`, при этом в `set1` есть хотя бы один дополнительный элемент.\n"
   ]
  },
  {
   "cell_type": "code",
   "execution_count": null,
   "metadata": {
    "colab": {
     "base_uri": "https://localhost:8080/"
    },
    "id": "8ebck_rIbdpQ",
    "outputId": "c15ac54b-de7d-402d-fc3b-5e95986fd269"
   },
   "outputs": [
    {
     "data": {
      "text/plain": [
       "True"
      ]
     },
     "execution_count": 126,
     "metadata": {},
     "output_type": "execute_result"
    }
   ],
   "source": [
    "{1, 2, 3} < {1, 3, 2, 4}"
   ]
  },
  {
   "cell_type": "code",
   "execution_count": null,
   "metadata": {
    "colab": {
     "base_uri": "https://localhost:8080/"
    },
    "id": "boL4GKtTbfGO",
    "outputId": "81110c99-0bed-4aaf-9e8f-f3d294db3c3d"
   },
   "outputs": [
    {
     "data": {
      "text/plain": [
       "False"
      ]
     },
     "execution_count": 127,
     "metadata": {},
     "output_type": "execute_result"
    }
   ],
   "source": [
    "{1, 2, 3, 5} < {1, 3, 2, 4}"
   ]
  },
  {
   "cell_type": "code",
   "execution_count": null,
   "metadata": {
    "colab": {
     "base_uri": "https://localhost:8080/"
    },
    "id": "2_fO1I4tbgr2",
    "outputId": "b41ba1b6-968c-4430-fd73-df4d354ffd63"
   },
   "outputs": [
    {
     "data": {
      "text/plain": [
       "False"
      ]
     },
     "execution_count": 128,
     "metadata": {},
     "output_type": "execute_result"
    }
   ],
   "source": [
    "{1, 2, 3} < {1, 3, 2}"
   ]
  },
  {
   "cell_type": "markdown",
   "metadata": {
    "id": "dc9KfeqSWd3G"
   },
   "source": [
    "**Задача 1.** Дан:\n",
    "\n",
    "*   список студентов группы\n",
    "*   список студентов, которые пришли на экзамен\n",
    "*   список студентов, которые имеют зачет по предмету до экзамена\n",
    "\n",
    "\n",
    "\n",
    "выведите имена студентов:\n",
    "1. которые НЕ пришли на экзамен\n",
    "2. которые пришли на экзамен, но уже имели зачет по предмету\n",
    "3. которые НЕ пришли на экзамен, но уже имеют зачет до экзамена\n",
    "4. которые в итоге получили зачет по предмету (будем считать, что все кто пришел на экзамен сдали предмет)\n",
    "5. которые в итоге НЕ получили зачет по предмету (будем считать, что все кто пришел на экзамен сдали предмет)\n",
    "6. Написать код, который проверяет, получил ли студент зачет по предмету (True/False)"
   ]
  },
  {
   "cell_type": "code",
   "execution_count": null,
   "metadata": {
    "id": "xnYMNdIRWj74"
   },
   "outputs": [],
   "source": [
    "group = set([\"Иванов\", \"Петров\", \"Сидоров\", \"Федотов\", \"Александров\", \"Королев\", \"Симонов\"])\n",
    "exam = {\"Федотов\", \"Иванов\", \"Петров\", \"Симонов\"}\n",
    "zachet = set([\"Петров\", \"Королев\"])"
   ]
  },
  {
   "cell_type": "code",
   "execution_count": null,
   "metadata": {
    "id": "_YPo1-lst-A4"
   },
   "outputs": [],
   "source": []
  },
  {
   "cell_type": "markdown",
   "metadata": {
    "id": "HtDmOcdNZTiu"
   },
   "source": [
    "**Задача 2**\n",
    "\n",
    "Во входной строке записана последовательность чисел через пробел. Для каждого числа выведите слово YES (в отдельной строке), если это число ранее встречалось в последовательности или NO, если не встречалось."
   ]
  },
  {
   "cell_type": "code",
   "execution_count": null,
   "metadata": {
    "id": "S9XV5P4GdDRt"
   },
   "outputs": [],
   "source": []
  },
  {
   "cell_type": "markdown",
   "metadata": {
    "id": "uI6GyROvgkk_"
   },
   "source": [
    "**Задача 3.**\n",
    "\n",
    "Аня и Саша планируют отдых.\n",
    "В первой строке вводится (через пробел) список городов, где хочет побывать Аня.\n",
    "Во второй строке вводится (через пробел) список городов, где хочет побывать Саша.\n",
    "В третьей строке вводится список городов, где в дни их отдыха будет плохая погода.\n",
    "\n",
    "Программа должна вывести список городов, где хотят побывать и Аня, и Саша и где при этом не будет плохой погоды."
   ]
  },
  {
   "cell_type": "code",
   "execution_count": null,
   "metadata": {
    "id": "ggrq4S2MdE6t"
   },
   "outputs": [],
   "source": []
  },
  {
   "cell_type": "markdown",
   "metadata": {
    "id": "H5CrFFahTrxg"
   },
   "source": [
    "## Словари"
   ]
  },
  {
   "cell_type": "markdown",
   "metadata": {
    "id": "u_3cds8c6i-c"
   },
   "source": [
    "Словари(dict) в Python - неупорядоченные коллекции произвольных объектов с доступом по ключу."
   ]
  },
  {
   "cell_type": "markdown",
   "metadata": {
    "id": "X8ldYhYtckMG"
   },
   "source": [
    "Это структура, которая хранит данные в виде пар \"ключ-значение\". Ключ — это уникальное значение, с помощью которого можно найти соответствующее ему значение.\n",
    "Например, представьте, что у тебя есть англо-русский словарь, где:\n",
    "\n",
    "* Ключ — это английское слово, например, \"apple\"\n",
    "* Значение — это перевод этого слова на русский, то есть \"яблоко\".\n",
    "\n",
    "\n",
    "Такой словарь позволяет быстро найти перевод, если вы знаете английское слово. Ключи всегда уникальны, и каждый ключ связан с конкретным значением."
   ]
  },
  {
   "cell_type": "code",
   "execution_count": null,
   "metadata": {
    "id": "Ca5CMn4M6Wvt"
   },
   "outputs": [],
   "source": [
    "# Пустой словарь\n",
    "empty_dict = {} # dict()\n",
    "# Словарь с двумя парами ключ-значение\n",
    "value_dict = {'cat': 'кошка', 'dog': \"собака\"}\n",
    "\n",
    "value_dict = dict(cat='кошка', dog=\"собака\")\n",
    "value_dict = dict([('cat', 'кошка'), ('dog', 'собака')])"
   ]
  },
  {
   "cell_type": "code",
   "execution_count": null,
   "metadata": {
    "colab": {
     "base_uri": "https://localhost:8080/"
    },
    "id": "_dqi2hyF0-Ob",
    "outputId": "13f6bf5e-2a6f-40be-d273-53615f87aca3"
   },
   "outputs": [
    {
     "data": {
      "text/plain": [
       "{'cat': 'кошка', 'dog': 'собака'}"
      ]
     },
     "execution_count": 151,
     "metadata": {},
     "output_type": "execute_result"
    }
   ],
   "source": [
    "value_dict"
   ]
  },
  {
   "cell_type": "markdown",
   "metadata": {
    "id": "UwoyuVTUc7bE"
   },
   "source": [
    "В коде выше создается пустой словарь `empty_dict` (пустой словарь можно создать с помощью функции dict() или с помощью пустых фигурных скобок).\n",
    "\n",
    "Также мы можем создать словарь несколькими способами:\n",
    "* в фигурных скобочках через запятую перечислять пары ключ-значения, разделяя ключ от значения двоеточием\n",
    "* с помощью функции dict"
   ]
  },
  {
   "cell_type": "code",
   "execution_count": null,
   "metadata": {
    "colab": {
     "base_uri": "https://localhost:8080/"
    },
    "id": "MvFuMX-e_YXn",
    "outputId": "74e7e92f-92a1-48ac-9ae4-ff4449dd4cd2"
   },
   "outputs": [
    {
     "data": {
      "text/plain": [
       "{'cat': 'кошка', 'dog': 'собака'}"
      ]
     },
     "execution_count": 88,
     "metadata": {},
     "output_type": "execute_result"
    }
   ],
   "source": [
    "value_dict"
   ]
  },
  {
   "cell_type": "markdown",
   "metadata": {
    "id": "W9CkhNEcdjsc"
   },
   "source": [
    "Ключами словаря могут быть только неизменяемые типы данных, значениями - любые типы данных."
   ]
  },
  {
   "cell_type": "code",
   "execution_count": null,
   "metadata": {
    "id": "A_FZ4Jt4_Q4A"
   },
   "outputs": [],
   "source": [
    "strange_dict = {'abcd' : [1, 2], True : 4, 3: 9}"
   ]
  },
  {
   "cell_type": "markdown",
   "metadata": {
    "id": "PYAiq7lCeJCH"
   },
   "source": [
    "### Операции со словарями"
   ]
  },
  {
   "cell_type": "markdown",
   "metadata": {
    "id": "42ISlg0VeN61"
   },
   "source": [
    "Поскольку словари - неупорядоченные объекты, мы не можем обратиться к элементу по индексу:"
   ]
  },
  {
   "cell_type": "code",
   "execution_count": null,
   "metadata": {
    "colab": {
     "base_uri": "https://localhost:8080/",
     "height": 141
    },
    "id": "aQEta4CheXgU",
    "outputId": "8569a195-2eb5-4b30-da83-04fe85ab8263"
   },
   "outputs": [
    {
     "ename": "KeyError",
     "evalue": "0",
     "output_type": "error",
     "traceback": [
      "\u001b[0;31m---------------------------------------------------------------------------\u001b[0m",
      "\u001b[0;31mKeyError\u001b[0m                                  Traceback (most recent call last)",
      "\u001b[0;32m<ipython-input-153-4f9fe63bdd38>\u001b[0m in \u001b[0;36m<cell line: 1>\u001b[0;34m()\u001b[0m\n\u001b[0;32m----> 1\u001b[0;31m \u001b[0mvalue_dict\u001b[0m\u001b[0;34m[\u001b[0m\u001b[0;36m0\u001b[0m\u001b[0;34m]\u001b[0m\u001b[0;34m\u001b[0m\u001b[0;34m\u001b[0m\u001b[0m\n\u001b[0m",
      "\u001b[0;31mKeyError\u001b[0m: 0"
     ]
    }
   ],
   "source": [
    "value_dict[0]"
   ]
  },
  {
   "cell_type": "markdown",
   "metadata": {
    "id": "o3Ycs_PXeYPY"
   },
   "source": [
    "Но можем обратиться по ключу. Сделать это можно двумя способами:"
   ]
  },
  {
   "cell_type": "code",
   "execution_count": null,
   "metadata": {
    "colab": {
     "base_uri": "https://localhost:8080/",
     "height": 35
    },
    "id": "HnkJUmHC_26E",
    "outputId": "13c047b5-a3b9-4fcd-fc62-a500b90ab484"
   },
   "outputs": [
    {
     "data": {
      "application/vnd.google.colaboratory.intrinsic+json": {
       "type": "string"
      },
      "text/plain": [
       "'кошка'"
      ]
     },
     "execution_count": 154,
     "metadata": {},
     "output_type": "execute_result"
    }
   ],
   "source": [
    "value_dict['cat']"
   ]
  },
  {
   "cell_type": "code",
   "execution_count": null,
   "metadata": {
    "colab": {
     "base_uri": "https://localhost:8080/",
     "height": 35
    },
    "id": "FChAbzsI_7xO",
    "outputId": "3888dbeb-c16c-4247-849b-16b3ec6c486b"
   },
   "outputs": [
    {
     "data": {
      "application/vnd.google.colaboratory.intrinsic+json": {
       "type": "string"
      },
      "text/plain": [
       "'кошка'"
      ]
     },
     "execution_count": 155,
     "metadata": {},
     "output_type": "execute_result"
    }
   ],
   "source": [
    "value_dict.get('cat')"
   ]
  },
  {
   "cell_type": "markdown",
   "metadata": {
    "id": "MckIT_z9ej4x"
   },
   "source": [
    "Разница между двумя способами выше в том, что в первом случае при отсутствии такого ключа мы получим ошибку, во втором случае вернется значение None."
   ]
  },
  {
   "cell_type": "code",
   "execution_count": null,
   "metadata": {
    "colab": {
     "base_uri": "https://localhost:8080/",
     "height": 141
    },
    "id": "OPb-4su3euG3",
    "outputId": "a862ab50-977d-4d2f-ea13-3d32b87b8d40"
   },
   "outputs": [
    {
     "ename": "KeyError",
     "evalue": "'bird'",
     "output_type": "error",
     "traceback": [
      "\u001b[0;31m---------------------------------------------------------------------------\u001b[0m",
      "\u001b[0;31mKeyError\u001b[0m                                  Traceback (most recent call last)",
      "\u001b[0;32m<ipython-input-156-3166aa6f5515>\u001b[0m in \u001b[0;36m<cell line: 1>\u001b[0;34m()\u001b[0m\n\u001b[0;32m----> 1\u001b[0;31m \u001b[0mvalue_dict\u001b[0m\u001b[0;34m[\u001b[0m\u001b[0;34m'bird'\u001b[0m\u001b[0;34m]\u001b[0m\u001b[0;34m\u001b[0m\u001b[0;34m\u001b[0m\u001b[0m\n\u001b[0m",
      "\u001b[0;31mKeyError\u001b[0m: 'bird'"
     ]
    }
   ],
   "source": [
    "value_dict['bird']"
   ]
  },
  {
   "cell_type": "code",
   "execution_count": null,
   "metadata": {
    "id": "C4aSQqy4evBa"
   },
   "outputs": [],
   "source": [
    "value_dict.get('bird')"
   ]
  },
  {
   "cell_type": "markdown",
   "metadata": {
    "id": "6vZ5onvpewbI"
   },
   "source": [
    "У метода get есть необязательный второй аргумент, который определяет, какое значение возвращается, если такого ключа нет в словаре."
   ]
  },
  {
   "cell_type": "code",
   "execution_count": null,
   "metadata": {
    "colab": {
     "base_uri": "https://localhost:8080/",
     "height": 35
    },
    "id": "bfCkI154e5Jf",
    "outputId": "e75b7105-3487-4a3a-c4c4-056b4fdbb20d"
   },
   "outputs": [
    {
     "data": {
      "application/vnd.google.colaboratory.intrinsic+json": {
       "type": "string"
      },
      "text/plain": [
       "'кошка'"
      ]
     },
     "execution_count": 159,
     "metadata": {},
     "output_type": "execute_result"
    }
   ],
   "source": [
    "value_dict.get('bird', '?')"
   ]
  },
  {
   "cell_type": "markdown",
   "metadata": {
    "id": "GuzOsMdQe4IL"
   },
   "source": [
    "С помощью `=` мы можем создать новую пару ключ-значение, изменив исходный словарь. Если такой ключ уже есть, мы его заменим:"
   ]
  },
  {
   "cell_type": "code",
   "execution_count": null,
   "metadata": {
    "id": "Nt8Lg7R8-W72"
   },
   "outputs": [],
   "source": [
    "value_dict['bird'] = 'птица'"
   ]
  },
  {
   "cell_type": "code",
   "execution_count": null,
   "metadata": {
    "colab": {
     "base_uri": "https://localhost:8080/"
    },
    "id": "Aoy2_C8bfN8M",
    "outputId": "d62468d3-1dac-4564-de89-9b8c624d1af6"
   },
   "outputs": [
    {
     "data": {
      "text/plain": [
       "{'cat': 'кошка', 'dog': 'собака', 'bird': 'птица'}"
      ]
     },
     "execution_count": 162,
     "metadata": {},
     "output_type": "execute_result"
    }
   ],
   "source": [
    "value_dict"
   ]
  },
  {
   "cell_type": "markdown",
   "metadata": {
    "id": "wimu049KfUSB"
   },
   "source": [
    "Также словарь можно обновить с помощью метода `update:`"
   ]
  },
  {
   "cell_type": "code",
   "execution_count": null,
   "metadata": {
    "id": "qYcYPFz7wurB"
   },
   "outputs": [],
   "source": [
    "value_dict.update({\"two\": 'два', \"one\": 'один'})"
   ]
  },
  {
   "cell_type": "code",
   "execution_count": null,
   "metadata": {
    "colab": {
     "base_uri": "https://localhost:8080/"
    },
    "id": "gt2GoIo_xmei",
    "outputId": "865f6d4b-da90-41e8-d09e-7aa535e13370"
   },
   "outputs": [
    {
     "data": {
      "text/plain": [
       "{'cat': 'кошка', 'dog': 'собака', 'bird': 'птица', 'two': 'два', 'one': 'один'}"
      ]
     },
     "execution_count": 164,
     "metadata": {},
     "output_type": "execute_result"
    }
   ],
   "source": [
    "value_dict"
   ]
  },
  {
   "cell_type": "markdown",
   "metadata": {
    "id": "qQfLftzOfnNL"
   },
   "source": [
    "Удалить ключ из словаря можно с помощью метода `pop`, при этом метод возвращает значение ключа:"
   ]
  },
  {
   "cell_type": "code",
   "execution_count": null,
   "metadata": {
    "id": "AQILatqPxnbO"
   },
   "outputs": [],
   "source": [
    "value_dict.pop('cat')"
   ]
  },
  {
   "cell_type": "code",
   "execution_count": null,
   "metadata": {
    "colab": {
     "base_uri": "https://localhost:8080/"
    },
    "id": "AZDdJGyHxqUy",
    "outputId": "8bc5ae3b-a2d9-4d4d-9d9a-817c1e9a6709"
   },
   "outputs": [
    {
     "data": {
      "text/plain": [
       "{'dog': 'собака', 'bird': 'птица', 'two': 'два', 'one': 'один'}"
      ]
     },
     "execution_count": 166,
     "metadata": {},
     "output_type": "execute_result"
    }
   ],
   "source": [
    "value_dict"
   ]
  },
  {
   "cell_type": "code",
   "execution_count": null,
   "metadata": {
    "colab": {
     "base_uri": "https://localhost:8080/"
    },
    "id": "CETS1N1O6dk3",
    "outputId": "5d06f199-f18d-4237-d4cc-18cf037127c3"
   },
   "outputs": [
    {
     "data": {
      "text/plain": [
       "dict_values(['собака', 'птица', 'два', 'один'])"
      ]
     },
     "execution_count": 170,
     "metadata": {},
     "output_type": "execute_result"
    }
   ],
   "source": [
    "value_dict.values() #список значений"
   ]
  },
  {
   "cell_type": "code",
   "execution_count": null,
   "metadata": {
    "colab": {
     "base_uri": "https://localhost:8080/"
    },
    "id": "vsM7ZnVC67TP",
    "outputId": "9a35f268-3f4b-44a6-dac1-3287569ecff1"
   },
   "outputs": [
    {
     "data": {
      "text/plain": [
       "dict_keys(['dog', 'bird', 'two', 'one'])"
      ]
     },
     "execution_count": 102,
     "metadata": {},
     "output_type": "execute_result"
    }
   ],
   "source": [
    "value_dict.keys() # список ключей"
   ]
  },
  {
   "cell_type": "code",
   "execution_count": null,
   "metadata": {
    "colab": {
     "base_uri": "https://localhost:8080/"
    },
    "id": "j4wWjUw0gPhY",
    "outputId": "746af2d1-5dad-4bd2-91ea-1e7abc81aa1f"
   },
   "outputs": [
    {
     "data": {
      "text/plain": [
       "dict_items([('dog', 'собака'), ('bird', 'птица'), ('two', 'два'), ('one', 'один')])"
      ]
     },
     "execution_count": 171,
     "metadata": {},
     "output_type": "execute_result"
    }
   ],
   "source": [
    "value_dict.items() # список пар ключ-значение"
   ]
  },
  {
   "cell_type": "markdown",
   "metadata": {
    "id": "R8uyn6q3ovHo"
   },
   "source": [
    "Давайте вспомним все типы данных, о которых говорили.\n",
    "\n",
    "|  |  |\n",
    "| :- | :- |\n",
    "| целое число | `int` |\n",
    "| вещественное число | `float` |\n",
    "| логическая переменная | `bool` |\n",
    "| **Упорядоченные типы данных** |\n",
    "| строка | `str` |\n",
    "| список | `lst` |\n",
    "| кортеж |`tuple` |\n",
    "| **Неупорядоченные типы данных** |\n",
    "| множество | `set` |\n",
    "| словарь |  `dict` |\n",
    "\n",
    "Изменяемость / неизменяемость:\n",
    "\n",
    "| Неизменяемые типы данных | Изменяемые типы данных |\n",
    "| --- | --- |\n",
    "| кортеж | список |\n",
    "| строки | множество\n",
    "| числа целые и вещественные | словарь |\n",
    "| логические переменные\n",
    "\n",
    "Об обращении к элементам:\n",
    "\n",
    "| Тип данных | Тип структуры данных | Как обращаемся к элементу внутри? |\n",
    "| --- | --- | --- |\n",
    "| кортежи | упорядоченный | по индексу |\n",
    "| списки |  упорядоченный | по индексу |\n",
    "| строки  | упорядоченный | по индексу |\n",
    "| множество | неупорядоченный | не можем обратиться к элементу |\n",
    "| Словари | неупорядоченный | по ключу\n"
   ]
  },
  {
   "cell_type": "code",
   "execution_count": null,
   "metadata": {
    "colab": {
     "base_uri": "https://localhost:8080/"
    },
    "id": "H1Be1hRh3abH",
    "outputId": "ce38d71a-5184-4af1-cffe-5c50ddf1191e"
   },
   "outputs": [
    {
     "data": {
      "text/plain": [
       "{'dog': 'собака', 'bird': 'птица', 'two': 'два', 'one': 'один'}"
      ]
     },
     "execution_count": 175,
     "metadata": {},
     "output_type": "execute_result"
    }
   ],
   "source": [
    "value_dict"
   ]
  },
  {
   "cell_type": "markdown",
   "metadata": {
    "id": "YRCDQw3o9DLz"
   },
   "source": [
    "## Задачи"
   ]
  },
  {
   "cell_type": "markdown",
   "metadata": {
    "id": "TdhA-CsPVzc5"
   },
   "source": [
    "**Задача 2.1**\n",
    "1. Вводится N - число студентов. Затем вводится N строк - фамилия студента и его оценка за экзамен через пробел. Создайте словарь, в котором ключами будет фамилия студента, значениями - оценка за экзамен."
   ]
  },
  {
   "cell_type": "code",
   "execution_count": null,
   "metadata": {
    "id": "jHmT61V5dJLJ"
   },
   "outputs": [],
   "source": []
  },
  {
   "cell_type": "markdown",
   "metadata": {
    "id": "5zRC--yqR7bP"
   },
   "source": [
    "**Задача 2.2**\n",
    "1. Вводится N - число записей. Затем вводится N строк - фамилия студента, предмет и оценка за экзамен через пробел. Создайте словарь, в котором ключами будет фамилия студента, а значениями словари, где ключи - предмет, значение - оценка за экзамен.\n"
   ]
  },
  {
   "cell_type": "code",
   "execution_count": null,
   "metadata": {
    "id": "-HISDiw0dLFy"
   },
   "outputs": [],
   "source": []
  }
 ],
 "metadata": {
  "colab": {
   "provenance": []
  },
  "kernelspec": {
   "display_name": "Python 3 (ipykernel)",
   "language": "python",
   "name": "python3"
  },
  "language_info": {
   "codemirror_mode": {
    "name": "ipython",
    "version": 3
   },
   "file_extension": ".py",
   "mimetype": "text/x-python",
   "name": "python",
   "nbconvert_exporter": "python",
   "pygments_lexer": "ipython3",
   "version": "3.9.13"
  }
 },
 "nbformat": 4,
 "nbformat_minor": 1
}
